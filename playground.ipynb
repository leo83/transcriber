{
 "cells": [
  {
   "cell_type": "code",
   "execution_count": 1,
   "metadata": {},
   "outputs": [
    {
     "name": "stdout",
     "output_type": "stream",
     "text": [
      "Python 3.11.6\n"
     ]
    }
   ],
   "source": [
    "!python --version"
   ]
  },
  {
   "cell_type": "code",
   "execution_count": null,
   "metadata": {},
   "outputs": [],
   "source": [
    "%pip install whispercpp"
   ]
  },
  {
   "cell_type": "code",
   "execution_count": 5,
   "metadata": {},
   "outputs": [],
   "source": [
    "from whispercpp import Whisper, utils, api"
   ]
  },
  {
   "cell_type": "code",
   "execution_count": 2,
   "metadata": {},
   "outputs": [],
   "source": [
    "# utils.MODELS_URL"
   ]
  },
  {
   "cell_type": "code",
   "execution_count": 3,
   "metadata": {},
   "outputs": [],
   "source": [
    "# monkey patching \n",
    "# import re \n",
    "\n",
    "# MODELS_URL_NEW = dict()\n",
    "\n",
    "# for k in utils.MODELS_URL.keys():\n",
    "#     MODELS_URL_NEW[k] = re.sub(r'datasets\\/', '', utils.MODELS_URL[k])\n",
    "\n",
    "# utils.MODELS_URL = MODELS_URL_NEW"
   ]
  },
  {
   "cell_type": "code",
   "execution_count": 4,
   "metadata": {},
   "outputs": [],
   "source": [
    "# First init - download model\n",
    "\n",
    "# params = (  # noqa # type: ignore\n",
    "#     api.Params\n",
    "#     .from_enum(api.SAMPLING_GREEDY)\n",
    "#     #  .from_enum(api.SAMPLING_BEAM_SEARCH) # ValueError: allocator<T>::allocate(size_t n) 'n' exceeds maximum supported size\n",
    "#     .with_print_progress(True)\n",
    "#     .with_print_realtime(False)\n",
    "#     .with_language('auto')\n",
    "#     .build()\n",
    "# )\n",
    "\n",
    "# w = Whisper.from_pretrained(\"medium\", basedir='/Users/Lev/dev/transcriber/models')\n",
    "# w.from_params(params=params)"
   ]
  },
  {
   "cell_type": "markdown",
   "metadata": {},
   "source": [
    "Models can be download ed with `./models/download-ggml-model.sh` script and placed to some dir which will be referenced as `base_dir` parameter "
   ]
  },
  {
   "cell_type": "code",
   "execution_count": 6,
   "metadata": {},
   "outputs": [
    {
     "name": "stderr",
     "output_type": "stream",
     "text": [
      "whisper_init_from_file_no_state: loading model from 'models/whispercpp/ggml-medium.bin'\n",
      "whisper_model_load: loading model\n",
      "whisper_model_load: n_vocab       = 51865\n",
      "whisper_model_load: n_audio_ctx   = 1500\n",
      "whisper_model_load: n_audio_state = 1024\n",
      "whisper_model_load: n_audio_head  = 16\n",
      "whisper_model_load: n_audio_layer = 24\n",
      "whisper_model_load: n_text_ctx    = 448\n",
      "whisper_model_load: n_text_state  = 1024\n",
      "whisper_model_load: n_text_head   = 16\n",
      "whisper_model_load: n_text_layer  = 24\n",
      "whisper_model_load: n_mels        = 80\n",
      "whisper_model_load: f16           = 1\n",
      "whisper_model_load: type          = 4\n",
      "whisper_model_load: mem required  = 1720.00 MB (+   43.00 MB per decoder)\n",
      "whisper_model_load: adding 1608 extra tokens\n",
      "whisper_model_load: model ctx     = 1462.35 MB\n",
      "whisper_model_load: model size    = 1462.12 MB\n",
      "whisper_init_state: kv self size  =   42.00 MB\n",
      "whisper_init_state: kv cross size =  140.62 MB\n"
     ]
    }
   ],
   "source": [
    "# Second init - fast\n",
    "\n",
    "from whispercpp import api\n",
    "\n",
    "# params = api.Params()\n",
    "api.Params.language ='ru'\n",
    "\n",
    "# w = Whisper.from_pretrained(\"small\")\n",
    "\n",
    "params = (  # noqa # type: ignore\n",
    "    api.Params\n",
    "    .from_enum(api.SAMPLING_GREEDY)\n",
    "    #  .from_enum(api.SAMPLING_BEAM_SEARCH) # ValueError: allocator<T>::allocate(size_t n) 'n' exceeds maximum supported size\n",
    "    .with_print_progress(True)\n",
    "    .with_print_realtime(False)\n",
    "    .with_language('auto')\n",
    "    .build()\n",
    ")\n",
    "\n",
    "w = Whisper.from_params('medium', params, basedir='models')"
   ]
  },
  {
   "cell_type": "code",
   "execution_count": 20,
   "metadata": {},
   "outputs": [
    {
     "name": "stdout",
     "output_type": "stream",
     "text": [
      "Collecting ffmpeg-python\n",
      "  Downloading ffmpeg_python-0.2.0-py3-none-any.whl (25 kB)\n",
      "Collecting future (from ffmpeg-python)\n",
      "  Downloading future-0.18.3.tar.gz (840 kB)\n",
      "\u001b[2K     \u001b[90m━━━━━━━━━━━━━━━━━━━━━━━━━━━━━━━━━━━━━━━\u001b[0m \u001b[32m840.9/840.9 kB\u001b[0m \u001b[31m1.5 MB/s\u001b[0m eta \u001b[36m0:00:00\u001b[0ma \u001b[36m0:00:01\u001b[0m\n",
      "\u001b[?25h  Installing build dependencies ... \u001b[?25ldone\n",
      "\u001b[?25h  Getting requirements to build wheel ... \u001b[?25ldone\n",
      "\u001b[?25h  Preparing metadata (pyproject.toml) ... \u001b[?25ldone\n",
      "\u001b[?25hBuilding wheels for collected packages: future\n",
      "  Building wheel for future (pyproject.toml) ... \u001b[?25ldone\n",
      "\u001b[?25h  Created wheel for future: filename=future-0.18.3-py3-none-any.whl size=492024 sha256=6fcd1ec93a4d83e9d918b2e6816019d4e06c63f56509fb920e94cd564755fd0a\n",
      "  Stored in directory: /Users/Lev/Library/Caches/pip/wheels/5e/a9/47/f118e66afd12240e4662752cc22cefae5d97275623aa8ef57d\n",
      "Successfully built future\n",
      "Installing collected packages: future, ffmpeg-python\n",
      "Successfully installed ffmpeg-python-0.2.0 future-0.18.3\n",
      "Note: you may need to restart the kernel to use updated packages.\n"
     ]
    }
   ],
   "source": [
    "%pip install ffmpeg-python"
   ]
  },
  {
   "cell_type": "code",
   "execution_count": 7,
   "metadata": {},
   "outputs": [
    {
     "name": "stderr",
     "output_type": "stream",
     "text": [
      "whisper_full_with_state: auto-detected language: ru (p = 0.996185)\n",
      "whisper_full_with_state: progress =   5%\n",
      "whisper_full_with_state: progress =  10%\n",
      "whisper_full_with_state: progress =  15%\n",
      "whisper_full_with_state: progress =  20%\n",
      "whisper_full_with_state: progress =  25%\n",
      "whisper_full_with_state: progress =  30%\n",
      "whisper_full_with_state: progress =  35%\n",
      "whisper_full_with_state: progress =  40%\n",
      "whisper_full_with_state: progress =  45%\n",
      "whisper_full_with_state: progress =  50%\n",
      "whisper_full_with_state: progress =  55%\n",
      "whisper_full_with_state: progress =  60%\n",
      "whisper_full_with_state: progress =  65%\n",
      "whisper_full_with_state: progress =  70%\n",
      "whisper_full_with_state: progress =  75%\n",
      "whisper_full_with_state: progress =  80%\n",
      "whisper_full_with_state: progress =  85%\n",
      "whisper_full_with_state: progress =  90%\n",
      "whisper_full_with_state: progress =  95%\n"
     ]
    },
    {
     "data": {
      "text/plain": [
       "' Идея бизнеса создания серийной ML Data Driven платформы, позволяющей в короткие сроки развернуть эту платформу и запустить процесс сбора данных, аналитики над ними, построение и применение ML модели. Сегменты рынка это большой бизнес и MSB, в большом бизнесе драйверы импортозамещения и безопасности, в MSB драйверы стартующей организации, которым быстро нужна экспертиза и решение по аналитике над данными и машинному обучению, такие как PULSE год назад. В большом бизнесе также еще интересные страты, такие как сельское хозяйство, например, где зрелость искусственного интеллекта низка, при этом явно есть решение, собреженные с применением искусственного интеллекта способные показать value, добавочную стоимость к их продукту. Про конкурентов. Есть конкуренты, такие как ARENA DATA, IT SUMA и прочие он-преми с платформы, я тут умышленное не беру cloud-платформу. Основной их недостаток это стоимость, устарелый стэк, сложность интеграция, то есть интеграция устанавливается долго, интеграция с источниками долгая. На этих трех компонентах можно сыграть. Возможные модели применения freemium, модели монетизации имеется ввиду freemium, соответственно монетизация там либо на enterprise-фичах, либо на поддержке, либо продажи, лицензии на платформу, тут нужно понять что продавать, в чем бизнес ценности и как сделать так чтобы это не скопировали. Из активов экспертиза по построению таких решений, архитектурная, прикладная, а также сеть знакомств, позволяющая организовать команду для сборки и интеграции подобных платформ. Что необходимо еще исследовать - это анализ конкурентов, во-первых найти всех кто есть на рынке в этой ниши, а именно он премис дейты мл платформы, убедиться в их слабых местах, долгая инсталляция, дороговизна, устарелый стэк, также кстати больше уклон в сторону построения дата платформ, нежели мл платформ, отсутствие уклона на мл ops и так далее. Второе провести эксперименты, собрать тестовый стенд, в идеале написать хелм чарты, позволяющие быстро разворачивать компоненты платформы он премис на кубернетесе. [музыка] *Слышен звук, но не звук* Смотрите на наш канал!'"
      ]
     },
     "execution_count": 7,
     "metadata": {},
     "output_type": "execute_result"
    }
   ],
   "source": [
    "import ffmpeg\n",
    "import numpy as np\n",
    "\n",
    "input_file = '/Users/Lev/temp/source_iphone.m4a'\n",
    "# vaw_file = '/Users/Lev/temp/platform_business_idea.wav'\n",
    "sample_rate = '16000'\n",
    "\n",
    "try:\n",
    "    y, _ = (\n",
    "        ffmpeg.input(input_file, threads=0)\n",
    "        .output(\"-\", format=\"s16le\", acodec=\"pcm_s16le\", ac=1, ar=sample_rate)\n",
    "        .run(\n",
    "            cmd=[\"ffmpeg\", \"-nostdin\"], capture_stdout=True, capture_stderr=True\n",
    "        )\n",
    "    )\n",
    "except ffmpeg.Error as e:\n",
    "    raise RuntimeError(f\"Failed to load audio: {e.stderr.decode()}\") from e\n",
    "\n",
    "arr = np.frombuffer(y, np.int16).flatten().astype(np.float32) / 32768.0\n",
    "\n",
    "w.transcribe(arr)"
   ]
  },
  {
   "cell_type": "code",
   "execution_count": 31,
   "metadata": {},
   "outputs": [
    {
     "name": "stderr",
     "output_type": "stream",
     "text": [
      "whisper_full_with_state: auto-detected language: ru (p = 0.991731)\n",
      "whisper_full_with_state: progress =   5%\n",
      "whisper_full_with_state: progress =  10%\n",
      "whisper_full_with_state: progress =  15%\n",
      "whisper_full_with_state: progress =  20%\n",
      "whisper_full_with_state: progress =  25%\n",
      "whisper_full_with_state: progress =  30%\n",
      "whisper_full_with_state: progress =  35%\n",
      "whisper_full_with_state: progress =  40%\n",
      "whisper_full_with_state: progress =  45%\n",
      "whisper_full_with_state: progress =  50%\n",
      "whisper_full_with_state: progress =  55%\n",
      "whisper_full_with_state: progress =  60%\n",
      "whisper_full_with_state: progress =  65%\n",
      "whisper_full_with_state: progress =  70%\n",
      "whisper_full_with_state: progress =  75%\n",
      "whisper_full_with_state: progress =  80%\n",
      "whisper_full_with_state: progress =  85%\n",
      "whisper_full_with_state: progress =  90%\n",
      "whisper_full_with_state: progress =  95%\n"
     ]
    },
    {
     "data": {
      "text/plain": [
       "' Идея бизнеса. Создание серийной MLD, это древн платформы. Позволяющие в короткие сроки. Развернуть эту платформу. И запустить процесс споры данных. Аналитики над ними. Сегменты рынка. Это большой бизнес и MSB. В большом бизнесе драйверы. Стартующие организации. Быстро нужна экспертиза. Решение о аналитике над данными. Такие как пульс. Большом бизнесе. Интересные страты. Кооксельское хозяйство. Возьмите искусственные интеллекты. Есть решение. Сопрямление искусственных интеллектов. Вэлью. Добавочную стоимость. Про конкурентов. Есть конкуренты. Такие как арендато. Платформы. Стоимость. Старелый стэк. Сложность интеграции. Инсталляция. Инсталляция. Возможно модели применения. Фримиум. Монетизация. Фримиум. Интерпресс. Поддержки. Продажи. Понятие. И как сделать так. Экспертиза. По построению решений. Прикладная архитектурная. Сеть знакомств. Позволяю организовать команду. Стоимость. Продолжение. Исследование. Показать. Платформа. Долгое инсталляция. Драговизма. Больше уклон. Построение дата. Уклон на MLOBS. Продолжение. Продолжение. Платформа. Продолжение. Продолжение. [музыка]'"
      ]
     },
     "execution_count": 31,
     "metadata": {},
     "output_type": "execute_result"
    }
   ],
   "source": [
    "w.transcribe_from_file(vaw_file)"
   ]
  },
  {
   "cell_type": "code",
   "execution_count": 32,
   "metadata": {},
   "outputs": [
    {
     "data": {
      "text/plain": [
       "output(filename='/Users/Lev/temp/platform_business_idea_2.wav')[None] <18641d8122fd>"
      ]
     },
     "execution_count": 32,
     "metadata": {},
     "output_type": "execute_result"
    }
   ],
   "source": [
    "import ffmpeg\n",
    "\n",
    "input_file = '/Users/Lev/Downloads/Третье\\ Транспортное\\ кольцо.m4a'\n",
    "output_file = '/Users/Lev/temp/platform_business_idea_2.wav'\n",
    "\n",
    "(\n",
    "    ffmpeg\n",
    "    .input(input_file)\n",
    "    .output(output_file)\n",
    ")"
   ]
  },
  {
   "cell_type": "code",
   "execution_count": 4,
   "metadata": {},
   "outputs": [],
   "source": [
    "PRICE_GCP = {\n",
    "    'cpu_sec': 0.00002400, \n",
    "    'mem_gib_sec': 0.00000250,\n",
    "    'call': 0.40\n",
    "}\n",
    "\n",
    "AVG_DURATION = 20 * 60\n",
    "\n",
    "DOL2RUB = 92\n",
    "\n",
    "MONTH_LIMITS_GCP = {\n",
    "    'cpu': 180_000, \n",
    "    'mem': 360_000,\n",
    "    'calls': 2_000_000\n",
    "}\n",
    "\n",
    "# BASE_PRICE = 399\n",
    "\n",
    "# ABON_RUB = {\n",
    "#     10: BASE_PRICE, \n",
    "#     20: BASE_PRICE * 2 * .98,\n",
    "#     50:  BASE_PRICE * 5 * 0.95,\n",
    "#     100: BASE_PRICE * 100 * 0.85\n",
    "# }\n",
    "\n",
    "# ABON_RUB\n"
   ]
  },
  {
   "cell_type": "code",
   "execution_count": 10,
   "metadata": {},
   "outputs": [
    {
     "name": "stdout",
     "output_type": "stream",
     "text": [
      "Total call count: 3_000_000\n",
      "CPU cost: 86_395.68000000001 \n",
      "MEM cost: 17_999.100000000002 \n",
      "CALLS cost: 400_000.0 \n",
      "TOTAL cost: 504_394.78\n",
      "Total cost RUB: 46_404_319.760000005\n",
      "Total income RUB: 14_700_000 \n",
      "Margin RUB: -31_704_319.760000005\n"
     ]
    }
   ],
   "source": [
    "clients_count = 300_000\n",
    "call_per_client = 10\n",
    "\n",
    "total_call_count = clients_count * call_per_client\n",
    "\n",
    "print(f'Total call count: {total_call_count:_}')\n",
    "\n",
    "cpu_cost =  (\n",
    "    (total_call_count * AVG_DURATION - MONTH_LIMITS_GCP['cpu']) * PRICE_GCP['cpu_sec'] \n",
    "    if total_call_count * AVG_DURATION > MONTH_LIMITS_GCP['cpu'] \n",
    "    else 0\n",
    ")\n",
    "\n",
    "MEM_COEFF = 2\n",
    "\n",
    "mem_cost = (\n",
    "    (total_call_count * AVG_DURATION * MEM_COEFF - MONTH_LIMITS_GCP['mem']) * PRICE_GCP['mem_gib_sec']\n",
    "    if total_call_count * AVG_DURATION * MEM_COEFF > MONTH_LIMITS_GCP['mem']\n",
    "    else 0\n",
    ")\n",
    "\n",
    "calls_cost = (\n",
    "    (total_call_count - MONTH_LIMITS_GCP['calls']) * PRICE_GCP['call']\n",
    "    if total_call_count > MONTH_LIMITS_GCP['calls']\n",
    "    else 0\n",
    ")\n",
    "\n",
    "total_cost = cpu_cost + mem_cost + calls_cost\n",
    "\n",
    "print (f'CPU cost: {cpu_cost:_} \\nMEM cost: {mem_cost:_} \\nCALLS cost: {calls_cost:_} \\nTOTAL cost: {total_cost:_}')\n",
    "\n",
    "total_cost_rub = total_cost * DOL2RUB\n",
    "print(f'Total cost RUB: {total_cost_rub:_}')\n",
    "\n",
    "total_income_rub = Pricing.pricing_detail[call_per_client] * clients_count\n",
    "margin_rub = Pricing.pricing_detail[call_per_client] * clients_count - total_cost_rub\n",
    "\n",
    "print(f'Total income RUB: {total_income_rub:_} \\nMargin RUB: {margin_rub:_}')"
   ]
  },
  {
   "cell_type": "code",
   "execution_count": 1,
   "metadata": {},
   "outputs": [
    {
     "name": "stdout",
     "output_type": "stream",
     "text": [
      "{10: 199, 20: 399, 50: 899, 'Unlim': 1699}\n"
     ]
    }
   ],
   "source": [
    "from billing import Pricing\n",
    "\n",
    "print(Pricing.pricing_detail)"
   ]
  },
  {
   "cell_type": "code",
   "execution_count": 2,
   "metadata": {},
   "outputs": [],
   "source": [
    "# Calc margin params \n",
    "\n",
    "def get_margin(clients_count, call_per_client):\n",
    "\n",
    "    total_call_count = clients_count * call_per_client\n",
    "\n",
    "    cpu_cost =  (\n",
    "        (total_call_count * AVG_DURATION - MONTH_LIMITS_GCP['cpu']) * PRICE_GCP['cpu_sec'] \n",
    "        if total_call_count * AVG_DURATION > MONTH_LIMITS_GCP['cpu'] \n",
    "        else 0\n",
    "    )\n",
    "\n",
    "    MEM_COEFF = 2\n",
    "\n",
    "    mem_cost = (\n",
    "        (total_call_count * AVG_DURATION * MEM_COEFF - MONTH_LIMITS_GCP['mem']) * PRICE_GCP['mem_gib_sec']\n",
    "        if total_call_count * AVG_DURATION * MEM_COEFF > MONTH_LIMITS_GCP['mem']\n",
    "        else 0\n",
    "    )\n",
    "\n",
    "    calls_cost = (\n",
    "        (total_call_count - MONTH_LIMITS_GCP['calls']) * PRICE_GCP['call']\n",
    "        if total_call_count > MONTH_LIMITS_GCP['calls']\n",
    "        else 0\n",
    "    )\n",
    "\n",
    "    total_cost = cpu_cost + mem_cost + calls_cost\n",
    "    total_cost_rub = total_cost * DOL2RUB\n",
    "\n",
    "    total_income_rub = Pricing.pricing_detail[call_per_client] * clients_count\n",
    "    margin_rub = Pricing.pricing_detail[call_per_client] * clients_count - total_cost_rub\n",
    "\n",
    "    return margin_rub, total_income_rub, total_cost_rub, total_call_count"
   ]
  },
  {
   "cell_type": "code",
   "execution_count": 7,
   "metadata": {},
   "outputs": [
    {
     "data": {
      "image/png": "[encoded data removed]",
      "text/plain": [
       "<Figure size 640x480 with 2 Axes>"
      ]
     },
     "metadata": {},
     "output_type": "display_data"
    }
   ],
   "source": [
    "from matplotlib import pyplot as plt\n",
    "\n",
    "# client_counts_x = [1_000, 10_000, 50_000, 100_000, 120_000]\n",
    "\n",
    "client_counts_x = [1_000, 10_000, 50_000, 100_000, 150_000, 200_000, 250_000, 300_000, 400_000, 500_000, 600_000, 700_000, 800_000, 1000_000]\n",
    "\n",
    "calls_abon = 10\n",
    "\n",
    "fin_vals = [get_margin(x, calls_abon) for x  in client_counts_x]\n",
    "margins = [val[0] for val  in fin_vals]\n",
    "call_counts = [val[3] for val  in fin_vals]\n",
    "\n",
    "# margins\n",
    "\n",
    "fig, axs = plt.subplots(2, 1, constrained_layout=True)\n",
    "# ax.ticklabel_format(useOffset=False)\n",
    "axs[0].plot(client_counts_x, margins)\n",
    "axs[0].set_title('Margin')\n",
    "axs[0].grid(True)\n",
    "axs[1].plot(client_counts_x, call_counts)\n",
    "axs[1].set_title('Total call count')\n",
    "axs[1].grid(True)"
   ]
  },
  {
   "cell_type": "markdown",
   "metadata": {},
   "source": [
    "## GCP Bucket"
   ]
  },
  {
   "cell_type": "code",
   "execution_count": 8,
   "metadata": {},
   "outputs": [],
   "source": [
    "bucket_path = 'transcriber-audiofiles'"
   ]
  },
  {
   "cell_type": "code",
   "execution_count": 9,
   "metadata": {},
   "outputs": [
    {
     "name": "stdout",
     "output_type": "stream",
     "text": [
      "Requirement already satisfied: google-cloud-storage in /Users/Lev/.pyenv/versions/3.10.8/lib/python3.10/site-packages (2.6.0)\n",
      "Requirement already satisfied: google-auth<3.0dev,>=1.25.0 in /Users/Lev/.pyenv/versions/3.10.8/lib/python3.10/site-packages (from google-cloud-storage) (2.23.4)\n",
      "Requirement already satisfied: google-api-core!=2.0.*,!=2.1.*,!=2.2.*,!=2.3.0,<3.0.0dev,>=1.31.5 in /Users/Lev/.pyenv/versions/3.10.8/lib/python3.10/site-packages (from google-cloud-storage) (2.10.2)\n",
      "Requirement already satisfied: google-cloud-core<3.0dev,>=2.3.0 in /Users/Lev/.pyenv/versions/3.10.8/lib/python3.10/site-packages (from google-cloud-storage) (2.3.2)\n",
      "Requirement already satisfied: google-resumable-media>=2.3.2 in /Users/Lev/.pyenv/versions/3.10.8/lib/python3.10/site-packages (from google-cloud-storage) (2.4.0)\n",
      "Requirement already satisfied: requests<3.0.0dev,>=2.18.0 in /Users/Lev/.pyenv/versions/3.10.8/lib/python3.10/site-packages (from google-cloud-storage) (2.28.1)\n",
      "Requirement already satisfied: googleapis-common-protos<2.0dev,>=1.56.2 in /Users/Lev/.pyenv/versions/3.10.8/lib/python3.10/site-packages (from google-api-core!=2.0.*,!=2.1.*,!=2.2.*,!=2.3.0,<3.0.0dev,>=1.31.5->google-cloud-storage) (1.57.0)\n",
      "Requirement already satisfied: protobuf!=3.20.0,!=3.20.1,!=4.21.0,!=4.21.1,!=4.21.2,!=4.21.3,!=4.21.4,!=4.21.5,<5.0.0dev,>=3.19.5 in /Users/Lev/.pyenv/versions/3.10.8/lib/python3.10/site-packages (from google-api-core!=2.0.*,!=2.1.*,!=2.2.*,!=2.3.0,<3.0.0dev,>=1.31.5->google-cloud-storage) (4.21.9)\n",
      "Requirement already satisfied: cachetools<6.0,>=2.0.0 in /Users/Lev/.pyenv/versions/3.10.8/lib/python3.10/site-packages (from google-auth<3.0dev,>=1.25.0->google-cloud-storage) (5.2.0)\n",
      "Requirement already satisfied: pyasn1-modules>=0.2.1 in /Users/Lev/.pyenv/versions/3.10.8/lib/python3.10/site-packages (from google-auth<3.0dev,>=1.25.0->google-cloud-storage) (0.2.8)\n",
      "Requirement already satisfied: rsa<5,>=3.1.4 in /Users/Lev/.pyenv/versions/3.10.8/lib/python3.10/site-packages (from google-auth<3.0dev,>=1.25.0->google-cloud-storage) (4.9)\n",
      "Requirement already satisfied: google-crc32c<2.0dev,>=1.0 in /Users/Lev/.pyenv/versions/3.10.8/lib/python3.10/site-packages (from google-resumable-media>=2.3.2->google-cloud-storage) (1.5.0)\n",
      "Requirement already satisfied: charset-normalizer<3,>=2 in /Users/Lev/.pyenv/versions/3.10.8/lib/python3.10/site-packages (from requests<3.0.0dev,>=2.18.0->google-cloud-storage) (2.1.1)\n",
      "Requirement already satisfied: idna<4,>=2.5 in /Users/Lev/.pyenv/versions/3.10.8/lib/python3.10/site-packages (from requests<3.0.0dev,>=2.18.0->google-cloud-storage) (3.4)\n",
      "Requirement already satisfied: urllib3<1.27,>=1.21.1 in /Users/Lev/.pyenv/versions/3.10.8/lib/python3.10/site-packages (from requests<3.0.0dev,>=2.18.0->google-cloud-storage) (1.26.12)\n",
      "Requirement already satisfied: certifi>=2017.4.17 in /Users/Lev/.pyenv/versions/3.10.8/lib/python3.10/site-packages (from requests<3.0.0dev,>=2.18.0->google-cloud-storage) (2023.11.17)\n",
      "Requirement already satisfied: pyasn1<0.5.0,>=0.4.6 in /Users/Lev/.pyenv/versions/3.10.8/lib/python3.10/site-packages (from pyasn1-modules>=0.2.1->google-auth<3.0dev,>=1.25.0->google-cloud-storage) (0.4.8)\n",
      "Note: you may need to restart the kernel to use updated packages.\n"
     ]
    }
   ],
   "source": [
    "%pip install google-cloud-storage"
   ]
  },
  {
   "cell_type": "code",
   "execution_count": 12,
   "metadata": {},
   "outputs": [],
   "source": [
    "# https://stackoverflow.com/questions/41460802/accessing-data-in-google-cloud-bucket-for-a-python-tensorflow-learning-program\n",
    "\n",
    "from google.cloud import storage\n",
    "\n",
    "client = storage.Client()\n",
    "bucket = client.get_bucket(bucket_path)\n",
    "\n",
    "# Then do other things...\n",
    "# blob = bucket.get_blob('remote/path/to/file.txt')\n",
    "# print(blob.download_as_string())\n",
    "\n",
    "# blob.upload_from_string('New contents!')\n",
    "blob2 = bucket.blob('source_iphone.m4a')\n",
    "\n",
    "blob2.upload_from_filename(filename='/Users/Lev/temp/source_iphone.m4a', timeout=9999999)"
   ]
  },
  {
   "cell_type": "code",
   "execution_count": 27,
   "metadata": {},
   "outputs": [
    {
     "name": "stdout",
     "output_type": "stream",
     "text": [
      "3_000_000.0\n"
     ]
    }
   ],
   "source": [
    "v = 3*1e6\n",
    "print(f'{v:_}')"
   ]
  },
  {
   "cell_type": "code",
   "execution_count": null,
   "metadata": {},
   "outputs": [],
   "source": []
  }
 ],
 "metadata": {
  "kernelspec": {
   "display_name": "Python 3",
   "language": "python",
   "name": "python3"
  },
  "language_info": {
   "codemirror_mode": {
    "name": "ipython",
    "version": 3
   },
   "file_extension": ".py",
   "mimetype": "text/x-python",
   "name": "python",
   "nbconvert_exporter": "python",
   "pygments_lexer": "ipython3",
   "version": "3.10.8"
  }
 },
 "nbformat": 4,
 "nbformat_minor": 2
}
